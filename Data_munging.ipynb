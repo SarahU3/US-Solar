{
 "cells": [
  {
   "cell_type": "code",
   "execution_count": 58,
   "metadata": {},
   "outputs": [],
   "source": [
    "%matplotlib inline\n",
    "import matplotlib\n",
    "import matplotlib.pyplot as plt\n",
    "import seaborn as sns\n",
    "sns.set()\n",
    "matplotlib.rcParams['figure.dpi'] = 144\n",
    "import pandas as pd\n",
    "import numpy as np\n",
    "import geopandas as gpd\n",
    "import dill, urllib2, zipfile, os\n",
    "pd.options.mode.use_inf_as_na = True\n",
    "pd.set_option('display.float_format', lambda x: '%.2f' % x)"
   ]
  },
  {
   "cell_type": "markdown",
   "metadata": {},
   "source": [
    "### Solar PV data\n",
    "The \"openpv_all.zip\" was downloaded from \"https://openpv.nrel.gov/search.\" "
   ]
  },
  {
   "cell_type": "code",
   "execution_count": 3,
   "metadata": {},
   "outputs": [],
   "source": [
    "#Download from the site\n",
    "pv_url = \"https://maps-api.nrel.gov/open_pv/installs/download_all\"\n",
    "zip_pv = urllib2.urlopen(pv_url)\n",
    "pv_content = zip_pv.read()"
   ]
  },
  {
   "cell_type": "code",
   "execution_count": 4,
   "metadata": {},
   "outputs": [],
   "source": [
    "with open('openpv_all.zip', 'wb') as f:\n",
    "    f.write(pv_content)"
   ]
  },
  {
   "cell_type": "code",
   "execution_count": 5,
   "metadata": {},
   "outputs": [],
   "source": [
    "# Unzip\n",
    "zip_file = zipfile.ZipFile('openpv_all.zip', 'r')\n",
    "zip_file.extractall()\n",
    "zip_file.close()"
   ]
  },
  {
   "cell_type": "code",
   "execution_count": 6,
   "metadata": {},
   "outputs": [
    {
     "name": "stderr",
     "output_type": "stream",
     "text": [
      "C:\\Users\\Sarah\\Anaconda3\\lib\\site-packages\\IPython\\core\\interactiveshell.py:2718: DtypeWarning: Columns (2,5,8,12,13,14,15,16,20,23,25,26,27,28,32,50) have mixed types. Specify dtype option on import or set low_memory=False.\n",
      "  interactivity=interactivity, compiler=compiler, result=result)\n"
     ]
    }
   ],
   "source": [
    "#Load data(takes a few seconds) and create copy to work from\n",
    "solar_load = pd.read_csv('openpv_all.csv', parse_dates=[1], infer_datetime_format=True)\n",
    "solar2 = solar_load"
   ]
  },
  {
   "cell_type": "code",
   "execution_count": 7,
   "metadata": {},
   "outputs": [],
   "source": [
    "#Standardize \"residential\" category, then limit to those installs \n",
    "solar2['install_type']= solar2['install_type'].str.replace('/SF','')\n",
    "solar2['install_type']= solar2['install_type'].str.replace('Residential','residential')\n",
    "solar2 = solar2[solar2['install_type'] == 'residential']"
   ]
  },
  {
   "cell_type": "code",
   "execution_count": 8,
   "metadata": {},
   "outputs": [
    {
     "name": "stderr",
     "output_type": "stream",
     "text": [
      "C:\\Users\\Sarah\\Anaconda3\\lib\\site-packages\\ipykernel_launcher.py:2: SettingWithCopyWarning: \n",
      "A value is trying to be set on a copy of a slice from a DataFrame.\n",
      "Try using .loc[row_indexer,col_indexer] = value instead\n",
      "\n",
      "See the caveats in the documentation: http://pandas.pydata.org/pandas-docs/stable/indexing.html#indexing-view-versus-copy\n",
      "  \n"
     ]
    }
   ],
   "source": [
    "#Create state-county key for future merges\n",
    "solar2['st_cnty']= solar2['state']+'-'+solar2['county'].str.upper()"
   ]
  },
  {
   "cell_type": "code",
   "execution_count": 9,
   "metadata": {},
   "outputs": [],
   "source": [
    "#Not useful for analysis but fun - check the number of references to different solar incentive programs.\n",
    "#Note that this information is extremely biased - programs report their own data. \n",
    "#There are probably some programs that are very consistent in reporting, and many that are not. \n",
    "#solar2.incentive_prog_names.value_counts()"
   ]
  },
  {
   "cell_type": "markdown",
   "metadata": {},
   "source": [
    "The BLSSeriesReport was modified in Excel based on a download from https://data.bls.gov/cgi-bin/surveymost?cu. \n",
    "The columns are year, annual CPI (all items less food and energy), a re-index to the year 2000, and the decimal of  the re-index. "
   ]
  },
  {
   "cell_type": "code",
   "execution_count": 10,
   "metadata": {},
   "outputs": [],
   "source": [
    "cpi = pd.read_excel('BLSSeriesReport.xlsx', sheet_name=0)"
   ]
  },
  {
   "cell_type": "code",
   "execution_count": 11,
   "metadata": {},
   "outputs": [
    {
     "name": "stderr",
     "output_type": "stream",
     "text": [
      "C:\\Users\\Sarah\\Anaconda3\\lib\\site-packages\\ipykernel_launcher.py:2: SettingWithCopyWarning: \n",
      "A value is trying to be set on a copy of a slice from a DataFrame.\n",
      "Try using .loc[row_indexer,col_indexer] = value instead\n",
      "\n",
      "See the caveats in the documentation: http://pandas.pydata.org/pandas-docs/stable/indexing.html#indexing-view-versus-copy\n",
      "  \n"
     ]
    }
   ],
   "source": [
    "#Pull out year and use to merge with CPI, then create deflated measures (to year 2000) of cost and cost per watt\n",
    "solar2['Year'] = solar2['date_installed'].dt.year\n",
    "solar2 = solar2.merge(cpi, on='Year', how='left')\n",
    "solar2['rl_cost'] = solar2.cost/solar2.Decimal\n",
    "solar2['rl_cost_per_watt'] = solar2.cost_per_watt/solar2.Decimal"
   ]
  },
  {
   "cell_type": "code",
   "execution_count": 12,
   "metadata": {},
   "outputs": [],
   "source": [
    "#restrict solar2 to useful columns\n",
    "solar2 = solar2[['state',\n",
    " 'date_installed',\n",
    " 'incentive_prog_names',\n",
    " 'type',\n",
    " 'size_kw',\n",
    " 'zipcode',\n",
    " 'install_type',\n",
    " 'installer',\n",
    " 'cost_per_watt',\n",
    " 'cost',\n",
    " 'utility_clean',\n",
    " 'county',\n",
    " 'annual_PV_prod',\n",
    " 'annual_insolation',\n",
    " 'rebate',\n",
    " 'st_cnty',\n",
    " 'Year',\n",
    " u'Decimal',\n",
    " 'rl_cost',\n",
    " 'rl_cost_per_watt']]"
   ]
  },
  {
   "cell_type": "code",
   "execution_count": 166,
   "metadata": {},
   "outputs": [
    {
     "data": {
      "text/html": [
       "<div>\n",
       "<style scoped>\n",
       "    .dataframe tbody tr th:only-of-type {\n",
       "        vertical-align: middle;\n",
       "    }\n",
       "\n",
       "    .dataframe tbody tr th {\n",
       "        vertical-align: top;\n",
       "    }\n",
       "\n",
       "    .dataframe thead th {\n",
       "        text-align: right;\n",
       "    }\n",
       "</style>\n",
       "<table border=\"1\" class=\"dataframe\">\n",
       "  <thead>\n",
       "    <tr style=\"text-align: right;\">\n",
       "      <th></th>\n",
       "      <th>state</th>\n",
       "      <th>size_kw</th>\n",
       "      <th>type</th>\n",
       "    </tr>\n",
       "  </thead>\n",
       "  <tbody>\n",
       "    <tr>\n",
       "      <th>0</th>\n",
       "      <td>CA</td>\n",
       "      <td>4190938.50</td>\n",
       "      <td>574312</td>\n",
       "    </tr>\n",
       "    <tr>\n",
       "      <th>1</th>\n",
       "      <td>AZ</td>\n",
       "      <td>605212.52</td>\n",
       "      <td>85498</td>\n",
       "    </tr>\n",
       "    <tr>\n",
       "      <th>2</th>\n",
       "      <td>MA</td>\n",
       "      <td>468208.38</td>\n",
       "      <td>64845</td>\n",
       "    </tr>\n",
       "    <tr>\n",
       "      <th>3</th>\n",
       "      <td>NY</td>\n",
       "      <td>324725.23</td>\n",
       "      <td>43956</td>\n",
       "    </tr>\n",
       "    <tr>\n",
       "      <th>4</th>\n",
       "      <td>NJ</td>\n",
       "      <td>353618.84</td>\n",
       "      <td>43196</td>\n",
       "    </tr>\n",
       "    <tr>\n",
       "      <th>5</th>\n",
       "      <td>CT</td>\n",
       "      <td>114263.30</td>\n",
       "      <td>15493</td>\n",
       "    </tr>\n",
       "    <tr>\n",
       "      <th>6</th>\n",
       "      <td>NV</td>\n",
       "      <td>96792.21</td>\n",
       "      <td>14608</td>\n",
       "    </tr>\n",
       "    <tr>\n",
       "      <th>7</th>\n",
       "      <td>TX</td>\n",
       "      <td>103359.36</td>\n",
       "      <td>12414</td>\n",
       "    </tr>\n",
       "    <tr>\n",
       "      <th>8</th>\n",
       "      <td>MD</td>\n",
       "      <td>69316.34</td>\n",
       "      <td>10702</td>\n",
       "    </tr>\n",
       "    <tr>\n",
       "      <th>9</th>\n",
       "      <td>PA</td>\n",
       "      <td>74049.88</td>\n",
       "      <td>9749</td>\n",
       "    </tr>\n",
       "    <tr>\n",
       "      <th>10</th>\n",
       "      <td>NM</td>\n",
       "      <td>33206.36</td>\n",
       "      <td>6007</td>\n",
       "    </tr>\n",
       "    <tr>\n",
       "      <th>11</th>\n",
       "      <td>DE</td>\n",
       "      <td>28495.38</td>\n",
       "      <td>4304</td>\n",
       "    </tr>\n",
       "    <tr>\n",
       "      <th>12</th>\n",
       "      <td>MO</td>\n",
       "      <td>38815.54</td>\n",
       "      <td>3326</td>\n",
       "    </tr>\n",
       "    <tr>\n",
       "      <th>13</th>\n",
       "      <td>NH</td>\n",
       "      <td>16447.35</td>\n",
       "      <td>3106</td>\n",
       "    </tr>\n",
       "    <tr>\n",
       "      <th>14</th>\n",
       "      <td>OR</td>\n",
       "      <td>10899.84</td>\n",
       "      <td>2666</td>\n",
       "    </tr>\n",
       "    <tr>\n",
       "      <th>15</th>\n",
       "      <td>DC</td>\n",
       "      <td>9878.79</td>\n",
       "      <td>2219</td>\n",
       "    </tr>\n",
       "    <tr>\n",
       "      <th>16</th>\n",
       "      <td>FL</td>\n",
       "      <td>16071.96</td>\n",
       "      <td>2141</td>\n",
       "    </tr>\n",
       "    <tr>\n",
       "      <th>17</th>\n",
       "      <td>WI</td>\n",
       "      <td>8528.99</td>\n",
       "      <td>1793</td>\n",
       "    </tr>\n",
       "    <tr>\n",
       "      <th>18</th>\n",
       "      <td>CO</td>\n",
       "      <td>8189.55</td>\n",
       "      <td>1390</td>\n",
       "    </tr>\n",
       "    <tr>\n",
       "      <th>19</th>\n",
       "      <td>OH</td>\n",
       "      <td>10923.28</td>\n",
       "      <td>1329</td>\n",
       "    </tr>\n",
       "  </tbody>\n",
       "</table>\n",
       "</div>"
      ],
      "text/plain": [
       "   state    size_kw    type\n",
       "0     CA 4190938.50  574312\n",
       "1     AZ  605212.52   85498\n",
       "2     MA  468208.38   64845\n",
       "3     NY  324725.23   43956\n",
       "4     NJ  353618.84   43196\n",
       "5     CT  114263.30   15493\n",
       "6     NV   96792.21   14608\n",
       "7     TX  103359.36   12414\n",
       "8     MD   69316.34   10702\n",
       "9     PA   74049.88    9749\n",
       "10    NM   33206.36    6007\n",
       "11    DE   28495.38    4304\n",
       "12    MO   38815.54    3326\n",
       "13    NH   16447.35    3106\n",
       "14    OR   10899.84    2666\n",
       "15    DC    9878.79    2219\n",
       "16    FL   16071.96    2141\n",
       "17    WI    8528.99    1793\n",
       "18    CO    8189.55    1390\n",
       "19    OH   10923.28    1329"
      ]
     },
     "execution_count": 166,
     "metadata": {},
     "output_type": "execute_result"
    }
   ],
   "source": [
    "# top 5 solar states\n",
    "solar_state = solar2.groupby('state').agg({'type':'count', 'size_kw':'sum'})\n",
    "totalpv = solar_state.sort_values('type', ascending=False).head(20).reset_index()\n",
    "totalpv"
   ]
  },
  {
   "cell_type": "code",
   "execution_count": 13,
   "metadata": {},
   "outputs": [],
   "source": [
    "#Save the somewhat-cleaned up data, including a time-series version\n",
    "solar2.to_pickle('solar.pkl')\n",
    "pvdf_time = solar2[['date_installed','state', 'type', 'rl_cost_per_watt']].set_index('date_installed').sort_index()\n",
    "pvdf_time = pvdf_time.loc['2002-01-01':'2015-12-31']\n",
    "pvdf_time.to_pickle('solar_ts.pkl')"
   ]
  },
  {
   "cell_type": "code",
   "execution_count": 14,
   "metadata": {},
   "outputs": [],
   "source": [
    "solar2 = pd.read_pickle('solar.pkl')"
   ]
  },
  {
   "cell_type": "markdown",
   "metadata": {},
   "source": [
    "### Electricity prices\n",
    "County-based electricity prices must be calculated from prices reported by individual utilities based on those utilities' service areas. These calculations are still imperfect; they only find the average price over all utilities in a given county. Weighting prices by number of customers in a county is impossible because the service area data has no customer breakdown. "
   ]
  },
  {
   "cell_type": "code",
   "execution_count": 16,
   "metadata": {},
   "outputs": [],
   "source": [
    "#Create column names for import of utility price/customer data\n",
    "salescolnames=['Data Year',\n",
    " 'Utility Number',\n",
    " 'Utility Name',\n",
    " 'Part',\n",
    " 'Service Type',\n",
    " 'Data Type\\nO = Observed\\nI = Imputed',\n",
    " 'State',\n",
    " 'Ownership',\n",
    " 'BA_CODE',\n",
    " 'RES Revenue Thousand Dollars',\n",
    " 'RES Megawatthours',\n",
    " 'RES Customer Count',]"
   ]
  },
  {
   "cell_type": "markdown",
   "metadata": {},
   "source": [
    "The files below were downloaded from https://www.eia.gov/electricity/data/eia861/index.html.\n",
    "The csv files were manually extracted into their own folder due to variations in file names."
   ]
  },
  {
   "cell_type": "code",
   "execution_count": 17,
   "metadata": {},
   "outputs": [
    {
     "name": "stdout",
     "output_type": "stream",
     "text": [
      "working on file file2_2008.xls\n",
      "working on file file2_2009.xls\n",
      "working on file file2_2010.xls\n",
      "working on file file2_2011.xls\n",
      "working on file retail_sales_2012.xls\n",
      "working on file Sales_Ult_Cust_2013.xls\n",
      "working on file Sales_Ult_Cust_2014.xls\n",
      "working on file Sales_Ult_Cust_2015.xlsx\n"
     ]
    }
   ],
   "source": [
    "# read in utility sales data from 2008 to 2015 to get prices\n",
    "append_data = []\n",
    "for WorkingFile in os.listdir('utilitydata/Sales'):\n",
    "    print \"working on file \" + WorkingFile\n",
    "    dfxls = pd.read_excel('utilitydata/Sales/'+WorkingFile, names = salescolnames, thousands = ',', skiprows=3, usecols = list(range(0,12)))\n",
    "    dfxls.drop(dfxls[dfxls['Utility Number']>80000].index, inplace=True) #drop missing utilities\n",
    "    dfxls.drop(dfxls.tail(1).index, inplace=True) #drop informational row\n",
    "    append_data.append(dfxls)\n",
    "merged = pd.concat(append_data)"
   ]
  },
  {
   "cell_type": "code",
   "execution_count": 18,
   "metadata": {},
   "outputs": [],
   "source": [
    "#convert columns from object to numeric and restrict to those columns\n",
    "util_sales = merged\n",
    "\n",
    "util_sales['RESrev'] = util_sales['RES Revenue Thousand Dollars'].apply(pd.to_numeric, errors='coerce')\n",
    "util_sales['RESmwh'] = util_sales['RES Megawatthours'].apply(pd.to_numeric, errors = 'coerce')\n",
    "util_sales['util_number'] = util_sales['Utility Number'].astype(int)\n",
    "util_sales['Year'] = util_sales['Data Year'].astype(int)\n",
    "util_sales['ut_st']=util_sales['util_number'].map(str) + util_sales['State'] #create merge key\n",
    "\n",
    "util_sales = util_sales[['Year', 'RESrev', 'RESmwh', 'ut_st']]"
   ]
  },
  {
   "cell_type": "code",
   "execution_count": 20,
   "metadata": {},
   "outputs": [
    {
     "name": "stderr",
     "output_type": "stream",
     "text": [
      "C:\\Users\\Sarah\\Anaconda3\\lib\\site-packages\\ipykernel_launcher.py:1: SettingWithCopyWarning: \n",
      "A value is trying to be set on a copy of a slice from a DataFrame.\n",
      "Try using .loc[row_indexer,col_indexer] = value instead\n",
      "\n",
      "See the caveats in the documentation: http://pandas.pydata.org/pandas-docs/stable/indexing.html#indexing-view-versus-copy\n",
      "  \"\"\"Entry point for launching an IPython kernel.\n",
      "C:\\Users\\Sarah\\Anaconda3\\lib\\site-packages\\pandas\\core\\indexing.py:537: SettingWithCopyWarning: \n",
      "A value is trying to be set on a copy of a slice from a DataFrame.\n",
      "Try using .loc[row_indexer,col_indexer] = value instead\n",
      "\n",
      "See the caveats in the documentation: http://pandas.pydata.org/pandas-docs/stable/indexing.html#indexing-view-versus-copy\n",
      "  self.obj[item] = s\n"
     ]
    }
   ],
   "source": [
    "util_sales['price'] = util_sales['RESrev']/util_sales['RESmwh']\n",
    "\n",
    "#2008-2012 prices are in cents, post-2012 prices are in dollars \n",
    "def standard_price(price):\n",
    "    return price*100\n",
    "util_sales.loc[util_sales['Year']>2012, 'price'] = util_sales[util_sales['Year']>2012]['price'].apply(lambda row: standard_price(row))"
   ]
  },
  {
   "cell_type": "code",
   "execution_count": 21,
   "metadata": {},
   "outputs": [],
   "source": [
    "# import utility service territory \n",
    "utilityterritory = pd.read_excel('utilitydata/Service_Territory_2015.xlsx')\n",
    "utilityterritory['ut_st'] = utilityterritory['Utility Number'].map(str) + utilityterritory['State']"
   ]
  },
  {
   "cell_type": "code",
   "execution_count": 22,
   "metadata": {},
   "outputs": [],
   "source": [
    "# merge with utility price data\n",
    "utility = pd.merge(util_sales, utilityterritory,  on='ut_st', how='left')\n",
    "utility = utility[['Year', 'RESrev', 'RESmwh', 'Utility Name', 'State', 'County', 'price']].dropna(how='any')\n",
    "utility['st_cnty'] = utility['State'].str.upper() +'-'+ utility['County'].str.upper()"
   ]
  },
  {
   "cell_type": "code",
   "execution_count": 24,
   "metadata": {},
   "outputs": [],
   "source": [
    "#group and aggregate utility data by county and year and save cleaned data\n",
    "county_price = utility.groupby(['Year','st_cnty'])\n",
    "counties = county_price.agg({'price': np.mean, 'State': lambda y: pd.Series.unique(y),'Utility Name': lambda x: ','.join(sorted(pd.Series.unique(x)))}).reset_index()\n",
    "counties = counties.rename(index=str, columns={'Data Year_x':'Year'})\n",
    "\n",
    "counties.to_pickle('counties.pkl')"
   ]
  },
  {
   "cell_type": "markdown",
   "metadata": {},
   "source": [
    "### Suitability of small buildings\n",
    "The below CSV was manually downloaded from the NSRDB viewer (https://nsrdb.nrel.gov/nsrdb-viewer). For each county, it reports the number of small buildings (nbld) in that county and the percentage of those buildings that are estimated to be suitable for solar installations (pct_suitab)."
   ]
  },
  {
   "cell_type": "code",
   "execution_count": 25,
   "metadata": {},
   "outputs": [],
   "source": [
    "#import lidar national small suitability data\n",
    "lidar = pd.read_csv('national_small_suitability.csv', na_values=-999)\n",
    "lidar['st_cnty'] = lidar['state'].str.strip() + '-' + lidar['county'].str.strip()\n",
    "lidar_county = lidar.drop(lidar.columns[[0,1,3,4,5,6,7,8,9,10]], axis =1)\n",
    "lidar_groups = lidar_county.groupby('st_cnty')\n",
    "lidar_count = lidar_groups.agg({'nbld': np.sum, 'pct_suitab': np.mean, 'fipsstco': lambda x: pd.Series.unique(x)})\n",
    "lidar_count = lidar_count.reset_index()\n",
    "\n",
    "lidar_count.to_pickle('lidar_cnty.pkl')"
   ]
  },
  {
   "cell_type": "code",
   "execution_count": 26,
   "metadata": {},
   "outputs": [],
   "source": [
    "counties = pd.read_pickle('counties.pkl')\n",
    "lidar_count = pd.read_pickle('lidar_cnty.pkl')"
   ]
  },
  {
   "cell_type": "markdown",
   "metadata": {},
   "source": [
    "Electricity prices have a different CPI, also downloaded from https://data.bls.gov/cgi-bin/surveymost?cu (series ID CUUR0000SEHF01). As before, this CPI Excel spreadsheet was downloaded then modified to re-index to the year 2000. "
   ]
  },
  {
   "cell_type": "code",
   "execution_count": 27,
   "metadata": {},
   "outputs": [],
   "source": [
    "el_cpi = pd.read_excel('BLSSeriesReport_Electricity.xlsx', sheet_name=0)"
   ]
  },
  {
   "cell_type": "code",
   "execution_count": 29,
   "metadata": {},
   "outputs": [],
   "source": [
    "#Merge county electricity price with small building suitability and merge with CPI to get real prices\n",
    "suitability = pd.merge(counties, lidar_count, on='st_cnty', how='left')\n",
    "suitability = suitability.dropna(how='any')\n",
    "suitability = suitability.merge(el_cpi, on='Year', how='left')\n",
    "suitability['rl_price'] = suitability.price/suitability.Decimal\n",
    "suitability = suitability[['Year',\n",
    " 'st_cnty',\n",
    " 'price',\n",
    " 'State',\n",
    " 'Utility Name',\n",
    " 'pct_suitab',\n",
    " 'fipsstco',\n",
    " 'nbld',\n",
    " 'rl_price']]"
   ]
  },
  {
   "cell_type": "code",
   "execution_count": 32,
   "metadata": {},
   "outputs": [],
   "source": [
    "#suitability now represents lidar and real price data\n",
    "suitability.to_pickle('suitability.pkl')"
   ]
  },
  {
   "cell_type": "code",
   "execution_count": 33,
   "metadata": {},
   "outputs": [],
   "source": [
    "suitability = pd.read_pickle('suitability.pkl')"
   ]
  },
  {
   "cell_type": "code",
   "execution_count": 34,
   "metadata": {},
   "outputs": [],
   "source": [
    "#group and aggregate suitability to average price over 2008 - 2012\n",
    "suitability_agg = suitability.groupby('st_cnty').agg({'State': lambda x: pd.Series.unique(x), \n",
    "                                                      'pct_suitab': lambda x: pd.Series.unique(x),\n",
    "                                                      'fipsstco': lambda x: pd.Series.unique(x),\n",
    "                                                      'nbld': lambda x: pd.Series.unique(x),\n",
    "                                                      'rl_price': np.mean}).reset_index()"
   ]
  },
  {
   "cell_type": "markdown",
   "metadata": {},
   "source": [
    "### Election data\n",
    "The CSV below is from https://github.com/helloworlddata/us-presidential-election-county-results, compiled by Dan Nguyen. "
   ]
  },
  {
   "cell_type": "code",
   "execution_count": 36,
   "metadata": {},
   "outputs": [],
   "source": [
    "#Load data on 2004-2012 presidential election votes, by county\n",
    "elec = pd.read_csv('us_presidential_election_county_results_2004_2012.csv')\n",
    "elec = elec[['year', 'state', 'county', 'fips', 'pct_rep', 'pct_dem', 'pct_oth']].rename({'fips':'fipsstco'}, axis=1)\n",
    "elec = elec[elec.state != 'AK']\n",
    "elec['fipsstco'] = elec.fipsstco.astype(str).astype(float)"
   ]
  },
  {
   "cell_type": "code",
   "execution_count": 37,
   "metadata": {},
   "outputs": [],
   "source": [
    "#standardize county names to single names (i.e. not \"___ County\")\n",
    "elec['county'].replace(regex=True, inplace=True, to_replace=r' County', value=r'')\n",
    "elec['year']= elec.year.astype(str)"
   ]
  },
  {
   "cell_type": "code",
   "execution_count": 38,
   "metadata": {},
   "outputs": [],
   "source": [
    "#reshape to columns for each year's results\n",
    "elec_melt = elec.set_index(['state', 'county', 'fipsstco', 'year']).unstack('year')\n",
    "elec_melt.columns = [\"_\".join(pair) for pair in elec_melt.columns]\n",
    "elec_melt.reset_index(inplace=True)\n",
    "suit_elec = pd.merge(suitability_agg, elec_melt, on='fipsstco', how='outer')\n",
    "suit_elec.to_pickle('suit_elec.pkl')"
   ]
  },
  {
   "cell_type": "code",
   "execution_count": 44,
   "metadata": {},
   "outputs": [],
   "source": [
    "suit_elec = pd.read_pickle('suit_elec.pkl')"
   ]
  },
  {
   "cell_type": "markdown",
   "metadata": {},
   "source": [
    "### Median household income and population\n",
    "Income: American Community Survey 5-year estimates, 2010. <br>\n",
    "Population: U.S. Census estimates 2010. <br> \n",
    "Both from American Fact Finnder,  https://factfinder.census.gov/faces/nav/jsf/pages/index.xhtml."
   ]
  },
  {
   "cell_type": "code",
   "execution_count": 46,
   "metadata": {},
   "outputs": [],
   "source": [
    "income = pd.read_excel('Med_inc_est10all.xls')\n",
    "income['fipsstco'] = income.fipsstco.astype(float)\n",
    "income['med_income'] = income[['Median Household Income']].apply(pd.to_numeric, errors = 'coerce')\n",
    "income = income.drop(['Median Household Income'], axis=1)"
   ]
  },
  {
   "cell_type": "code",
   "execution_count": 50,
   "metadata": {},
   "outputs": [],
   "source": [
    "suit_inc = pd.merge(suit_elec, income, on='fipsstco', how='outer')"
   ]
  },
  {
   "cell_type": "code",
   "execution_count": 52,
   "metadata": {},
   "outputs": [],
   "source": [
    "pop = pd.read_excel('PopulationEst2010.xls')\n",
    "pop['fipsstco']= pop['FIPS'].astype(float)\n",
    "pop = pop[['CENSUS_2010_POP', 'fipsstco']].rename(columns = {'CENSUS_2010_POP':'census2010'})"
   ]
  },
  {
   "cell_type": "code",
   "execution_count": 53,
   "metadata": {},
   "outputs": [],
   "source": [
    "df_final = suit_inc.merge(pop, on='fipsstco', how='left')\n",
    "df_final.to_pickle('suit_final.pkl')"
   ]
  },
  {
   "cell_type": "code",
   "execution_count": 56,
   "metadata": {},
   "outputs": [],
   "source": [
    "f_df = pd.read_pickle('suit_final.pkl')"
   ]
  },
  {
   "cell_type": "markdown",
   "metadata": {},
   "source": [
    "### Direct normal irradiance\n",
    "The DNI and county geography datasets are both from NSRDB. The DNI is the \"Multi Year PSM Direct Normal Irradiance\" dataset, which contains annual averages. "
   ]
  },
  {
   "cell_type": "code",
   "execution_count": 59,
   "metadata": {},
   "outputs": [],
   "source": [
    "county_geo = gpd.read_file('nrel-us_counties_reatlas.json')"
   ]
  },
  {
   "cell_type": "code",
   "execution_count": 60,
   "metadata": {},
   "outputs": [],
   "source": [
    "county_geo['fips'] = county_geo['fips'].astype(str).astype(float)\n",
    "county_geo.to_pickle('county_geo.pkl')"
   ]
  },
  {
   "cell_type": "code",
   "execution_count": 67,
   "metadata": {},
   "outputs": [],
   "source": [
    "county_geo.rename(columns={'fips':'fipsstco'}, inplace=True)"
   ]
  },
  {
   "cell_type": "code",
   "execution_count": 61,
   "metadata": {},
   "outputs": [],
   "source": [
    "dni = gpd.read_file('nrel-nsrdb_v3_0_1_1998_2016_dni.json')"
   ]
  },
  {
   "cell_type": "code",
   "execution_count": 62,
   "metadata": {},
   "outputs": [],
   "source": [
    "county_dni = gpd.sjoin(dni, county_geo, how='inner', op='within')\n",
    "county_dni = county_dni[['dni', 'fips']]\n",
    "simple_dni = county_dni.groupby('fips')\n",
    "agg_dni = simple_dni.agg({'dni':'mean'}).reset_index()"
   ]
  },
  {
   "cell_type": "code",
   "execution_count": 63,
   "metadata": {},
   "outputs": [],
   "source": [
    "county_geodni = county_geo.merge(agg_dni, on='fips', how='inner')\n",
    "county_geodni.to_pickle('county_geo_dni.pkl')"
   ]
  },
  {
   "cell_type": "code",
   "execution_count": 64,
   "metadata": {},
   "outputs": [],
   "source": [
    "county_geo = pd.read_pickle('county_geo_dni.pkl')"
   ]
  },
  {
   "cell_type": "code",
   "execution_count": 65,
   "metadata": {},
   "outputs": [],
   "source": [
    "county_geo = county_geo[(county_geo.state_name != 'Alaska') & (county_geo.state_name != 'Hawaii') & (county_geo.state_name != 'Puerto Rico')]"
   ]
  },
  {
   "cell_type": "markdown",
   "metadata": {},
   "source": [
    "### Final merges\n",
    "County suitability (elections, population, income, prices, small buildings) merged with DNI/county geometry data, then merged with solar installation from OpenPV. "
   ]
  },
  {
   "cell_type": "code",
   "execution_count": 68,
   "metadata": {},
   "outputs": [],
   "source": [
    "county_df = county_geo.merge(df_final, on='fipsstco', how='left')"
   ]
  },
  {
   "cell_type": "code",
   "execution_count": 69,
   "metadata": {},
   "outputs": [],
   "source": [
    "solar2 = pd.read_pickle('solar.pkl')\n",
    "\n",
    "#limit OpenPV data to useful columns for county analysis and restrict to 2000-2015\n",
    "solar_short = solar2[['date_installed', 'type', 'st_cnty', 'rl_cost', 'rl_cost_per_watt', 'installer']]\n",
    "solar_county= solar_short.loc[(solar_short['date_installed'] >= '2000-01-01') & (solar_short['date_installed'] <= '2015-12-31')]\n",
    "#and remove cost outliers before calculating means\n",
    "solar_county = solar_county[solar_county.rl_cost <=100000] \n",
    "#group and aggregate OpenPV data by county\n",
    "solar_county_grp = solar_county.groupby('st_cnty').agg({'type':'count', 'rl_cost': 'mean', 'rl_cost_per_watt':'mean', 'installer': lambda x: pd.Series.nunique(x)}).rename(columns= {'type':'installs'}).reset_index()"
   ]
  },
  {
   "cell_type": "code",
   "execution_count": 70,
   "metadata": {
    "scrolled": true
   },
   "outputs": [
    {
     "name": "stderr",
     "output_type": "stream",
     "text": [
      "C:\\Users\\Sarah\\Anaconda3\\lib\\site-packages\\pandas\\core\\reshape\\merge.py:1481: UnicodeWarning: Unicode equal comparison failed to convert both arguments to Unicode - interpreting them as being unequal\n",
      "  rlab = rizer.factorize(rk)\n"
     ]
    }
   ],
   "source": [
    "pv_county = pd.merge(county_df, solar_county_grp, on='st_cnty', how='left')"
   ]
  },
  {
   "cell_type": "code",
   "execution_count": 71,
   "metadata": {},
   "outputs": [],
   "source": [
    "pv_county['pv_bld'] = (pv_county.installs/(pv_county.nbld/1000))"
   ]
  },
  {
   "cell_type": "code",
   "execution_count": 72,
   "metadata": {},
   "outputs": [
    {
     "data": {
      "text/html": [
       "<div>\n",
       "<style scoped>\n",
       "    .dataframe tbody tr th:only-of-type {\n",
       "        vertical-align: middle;\n",
       "    }\n",
       "\n",
       "    .dataframe tbody tr th {\n",
       "        vertical-align: top;\n",
       "    }\n",
       "\n",
       "    .dataframe thead th {\n",
       "        text-align: right;\n",
       "    }\n",
       "</style>\n",
       "<table border=\"1\" class=\"dataframe\">\n",
       "  <thead>\n",
       "    <tr style=\"text-align: right;\">\n",
       "      <th></th>\n",
       "      <th>gid</th>\n",
       "      <th>fipsstco</th>\n",
       "      <th>area</th>\n",
       "      <th>dni</th>\n",
       "      <th>pct_suitab</th>\n",
       "      <th>rl_price</th>\n",
       "      <th>nbld</th>\n",
       "      <th>pct_rep_2004</th>\n",
       "      <th>pct_rep_2008</th>\n",
       "      <th>pct_rep_2012</th>\n",
       "      <th>...</th>\n",
       "      <th>pct_oth_2004</th>\n",
       "      <th>pct_oth_2008</th>\n",
       "      <th>pct_oth_2012</th>\n",
       "      <th>med_income</th>\n",
       "      <th>census2010</th>\n",
       "      <th>rl_cost</th>\n",
       "      <th>installs</th>\n",
       "      <th>rl_cost_per_watt</th>\n",
       "      <th>installer</th>\n",
       "      <th>pv_bld</th>\n",
       "    </tr>\n",
       "  </thead>\n",
       "  <tbody>\n",
       "    <tr>\n",
       "      <th>count</th>\n",
       "      <td>3270.00</td>\n",
       "      <td>3270.00</td>\n",
       "      <td>3270.00</td>\n",
       "      <td>3270.00</td>\n",
       "      <td>3199.00</td>\n",
       "      <td>3199.00</td>\n",
       "      <td>3199.00</td>\n",
       "      <td>3070.00</td>\n",
       "      <td>3070.00</td>\n",
       "      <td>3070.00</td>\n",
       "      <td>...</td>\n",
       "      <td>3070.00</td>\n",
       "      <td>3070.00</td>\n",
       "      <td>3070.00</td>\n",
       "      <td>3270.00</td>\n",
       "      <td>3269.00</td>\n",
       "      <td>984.00</td>\n",
       "      <td>984.00</td>\n",
       "      <td>984.00</td>\n",
       "      <td>984.00</td>\n",
       "      <td>984.00</td>\n",
       "    </tr>\n",
       "    <tr>\n",
       "      <th>mean</th>\n",
       "      <td>1584.19</td>\n",
       "      <td>30288.76</td>\n",
       "      <td>969.99</td>\n",
       "      <td>5.02</td>\n",
       "      <td>0.83</td>\n",
       "      <td>7.94</td>\n",
       "      <td>26877.27</td>\n",
       "      <td>60.42</td>\n",
       "      <td>57.05</td>\n",
       "      <td>59.97</td>\n",
       "      <td>...</td>\n",
       "      <td>1.00</td>\n",
       "      <td>1.65</td>\n",
       "      <td>1.79</td>\n",
       "      <td>42882.31</td>\n",
       "      <td>97471.56</td>\n",
       "      <td>25996.21</td>\n",
       "      <td>677.19</td>\n",
       "      <td>5.16</td>\n",
       "      <td>18.61</td>\n",
       "      <td>5.55</td>\n",
       "    </tr>\n",
       "    <tr>\n",
       "      <th>std</th>\n",
       "      <td>882.65</td>\n",
       "      <td>14761.40</td>\n",
       "      <td>1291.70</td>\n",
       "      <td>0.72</td>\n",
       "      <td>0.06</td>\n",
       "      <td>0.99</td>\n",
       "      <td>72323.47</td>\n",
       "      <td>12.47</td>\n",
       "      <td>13.71</td>\n",
       "      <td>14.57</td>\n",
       "      <td>...</td>\n",
       "      <td>0.64</td>\n",
       "      <td>1.03</td>\n",
       "      <td>0.97</td>\n",
       "      <td>10504.79</td>\n",
       "      <td>306543.95</td>\n",
       "      <td>10955.64</td>\n",
       "      <td>3809.31</td>\n",
       "      <td>1.69</td>\n",
       "      <td>68.01</td>\n",
       "      <td>13.16</td>\n",
       "    </tr>\n",
       "    <tr>\n",
       "      <th>min</th>\n",
       "      <td>6.00</td>\n",
       "      <td>1001.00</td>\n",
       "      <td>23.17</td>\n",
       "      <td>3.31</td>\n",
       "      <td>0.42</td>\n",
       "      <td>4.47</td>\n",
       "      <td>0.00</td>\n",
       "      <td>9.30</td>\n",
       "      <td>6.50</td>\n",
       "      <td>5.98</td>\n",
       "      <td>...</td>\n",
       "      <td>0.00</td>\n",
       "      <td>0.00</td>\n",
       "      <td>0.00</td>\n",
       "      <td>20577.00</td>\n",
       "      <td>82.00</td>\n",
       "      <td>3208.17</td>\n",
       "      <td>1.00</td>\n",
       "      <td>0.85</td>\n",
       "      <td>0.00</td>\n",
       "      <td>0.00</td>\n",
       "    </tr>\n",
       "    <tr>\n",
       "      <th>25%</th>\n",
       "      <td>823.25</td>\n",
       "      <td>19055.50</td>\n",
       "      <td>443.50</td>\n",
       "      <td>4.56</td>\n",
       "      <td>0.79</td>\n",
       "      <td>7.21</td>\n",
       "      <td>4108.00</td>\n",
       "      <td>52.52</td>\n",
       "      <td>48.04</td>\n",
       "      <td>50.84</td>\n",
       "      <td>...</td>\n",
       "      <td>0.60</td>\n",
       "      <td>1.05</td>\n",
       "      <td>1.16</td>\n",
       "      <td>36064.00</td>\n",
       "      <td>11526.00</td>\n",
       "      <td>18922.91</td>\n",
       "      <td>2.00</td>\n",
       "      <td>4.10</td>\n",
       "      <td>0.00</td>\n",
       "      <td>0.13</td>\n",
       "    </tr>\n",
       "    <tr>\n",
       "      <th>50%</th>\n",
       "      <td>1616.50</td>\n",
       "      <td>29119.00</td>\n",
       "      <td>631.28</td>\n",
       "      <td>4.94</td>\n",
       "      <td>0.82</td>\n",
       "      <td>8.11</td>\n",
       "      <td>9239.00</td>\n",
       "      <td>60.90</td>\n",
       "      <td>57.42</td>\n",
       "      <td>61.01</td>\n",
       "      <td>...</td>\n",
       "      <td>0.85</td>\n",
       "      <td>1.58</td>\n",
       "      <td>1.68</td>\n",
       "      <td>41065.00</td>\n",
       "      <td>26175.00</td>\n",
       "      <td>24813.09</td>\n",
       "      <td>8.00</td>\n",
       "      <td>4.87</td>\n",
       "      <td>1.00</td>\n",
       "      <td>0.43</td>\n",
       "    </tr>\n",
       "    <tr>\n",
       "      <th>75%</th>\n",
       "      <td>2330.75</td>\n",
       "      <td>45020.50</td>\n",
       "      <td>936.43</td>\n",
       "      <td>5.21</td>\n",
       "      <td>0.86</td>\n",
       "      <td>8.68</td>\n",
       "      <td>21818.50</td>\n",
       "      <td>69.00</td>\n",
       "      <td>67.00</td>\n",
       "      <td>70.41</td>\n",
       "      <td>...</td>\n",
       "      <td>1.30</td>\n",
       "      <td>2.08</td>\n",
       "      <td>2.34</td>\n",
       "      <td>47490.00</td>\n",
       "      <td>67531.00</td>\n",
       "      <td>30640.29</td>\n",
       "      <td>86.25</td>\n",
       "      <td>5.95</td>\n",
       "      <td>9.00</td>\n",
       "      <td>3.64</td>\n",
       "    </tr>\n",
       "    <tr>\n",
       "      <th>max</th>\n",
       "      <td>3114.00</td>\n",
       "      <td>56045.00</td>\n",
       "      <td>20106.03</td>\n",
       "      <td>7.84</td>\n",
       "      <td>1.00</td>\n",
       "      <td>10.75</td>\n",
       "      <td>2112205.00</td>\n",
       "      <td>92.00</td>\n",
       "      <td>92.64</td>\n",
       "      <td>95.86</td>\n",
       "      <td>...</td>\n",
       "      <td>13.40</td>\n",
       "      <td>34.76</td>\n",
       "      <td>14.87</td>\n",
       "      <td>119075.00</td>\n",
       "      <td>9818605.00</td>\n",
       "      <td>99112.67</td>\n",
       "      <td>63691.00</td>\n",
       "      <td>18.16</td>\n",
       "      <td>1110.00</td>\n",
       "      <td>85.32</td>\n",
       "    </tr>\n",
       "  </tbody>\n",
       "</table>\n",
       "<p>8 rows × 23 columns</p>\n",
       "</div>"
      ],
      "text/plain": [
       "          gid  fipsstco     area     dni  pct_suitab  rl_price       nbld  \\\n",
       "count 3270.00   3270.00  3270.00 3270.00     3199.00   3199.00    3199.00   \n",
       "mean  1584.19  30288.76   969.99    5.02        0.83      7.94   26877.27   \n",
       "std    882.65  14761.40  1291.70    0.72        0.06      0.99   72323.47   \n",
       "min      6.00   1001.00    23.17    3.31        0.42      4.47       0.00   \n",
       "25%    823.25  19055.50   443.50    4.56        0.79      7.21    4108.00   \n",
       "50%   1616.50  29119.00   631.28    4.94        0.82      8.11    9239.00   \n",
       "75%   2330.75  45020.50   936.43    5.21        0.86      8.68   21818.50   \n",
       "max   3114.00  56045.00 20106.03    7.84        1.00     10.75 2112205.00   \n",
       "\n",
       "       pct_rep_2004  pct_rep_2008  pct_rep_2012   ...    pct_oth_2004  \\\n",
       "count       3070.00       3070.00       3070.00   ...         3070.00   \n",
       "mean          60.42         57.05         59.97   ...            1.00   \n",
       "std           12.47         13.71         14.57   ...            0.64   \n",
       "min            9.30          6.50          5.98   ...            0.00   \n",
       "25%           52.52         48.04         50.84   ...            0.60   \n",
       "50%           60.90         57.42         61.01   ...            0.85   \n",
       "75%           69.00         67.00         70.41   ...            1.30   \n",
       "max           92.00         92.64         95.86   ...           13.40   \n",
       "\n",
       "       pct_oth_2008  pct_oth_2012  med_income  census2010  rl_cost  installs  \\\n",
       "count       3070.00       3070.00     3270.00     3269.00   984.00    984.00   \n",
       "mean           1.65          1.79    42882.31    97471.56 25996.21    677.19   \n",
       "std            1.03          0.97    10504.79   306543.95 10955.64   3809.31   \n",
       "min            0.00          0.00    20577.00       82.00  3208.17      1.00   \n",
       "25%            1.05          1.16    36064.00    11526.00 18922.91      2.00   \n",
       "50%            1.58          1.68    41065.00    26175.00 24813.09      8.00   \n",
       "75%            2.08          2.34    47490.00    67531.00 30640.29     86.25   \n",
       "max           34.76         14.87   119075.00  9818605.00 99112.67  63691.00   \n",
       "\n",
       "       rl_cost_per_watt  installer  pv_bld  \n",
       "count            984.00     984.00  984.00  \n",
       "mean               5.16      18.61    5.55  \n",
       "std                1.69      68.01   13.16  \n",
       "min                0.85       0.00    0.00  \n",
       "25%                4.10       0.00    0.13  \n",
       "50%                4.87       1.00    0.43  \n",
       "75%                5.95       9.00    3.64  \n",
       "max               18.16    1110.00   85.32  \n",
       "\n",
       "[8 rows x 23 columns]"
      ]
     },
     "execution_count": 72,
     "metadata": {},
     "output_type": "execute_result"
    }
   ],
   "source": [
    "pv_county.describe()"
   ]
  },
  {
   "cell_type": "code",
   "execution_count": 73,
   "metadata": {},
   "outputs": [],
   "source": [
    "#save full information to avoid having to redo it\n",
    "pv_county.to_pickle('county_data.pkl')\n",
    "# save a smaller version that will load faster for analysis\n",
    "counties = pv_county[['name', 'state_name', 'geometry', 'dni', 'nbld', 'installs', \n",
    "                      'rl_cost_per_watt', 'census2010', 'pct_dem_2004']]\n",
    "counties.to_pickle('county_map.pkl')"
   ]
  }
 ],
 "metadata": {
  "kernelspec": {
   "display_name": "Python 2",
   "language": "python",
   "name": "python2"
  },
  "language_info": {
   "codemirror_mode": {
    "name": "ipython",
    "version": 2
   },
   "file_extension": ".py",
   "mimetype": "text/x-python",
   "name": "python",
   "nbconvert_exporter": "python",
   "pygments_lexer": "ipython2",
   "version": "2.7.14"
  }
 },
 "nbformat": 4,
 "nbformat_minor": 2
}
